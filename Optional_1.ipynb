{
 "cells": [
  {
   "cell_type": "code",
   "execution_count": 1,
   "metadata": {},
   "outputs": [
    {
     "name": "stdout",
     "output_type": "stream",
     "text": [
      "10\n",
      "20\n",
      "30\n",
      "40\n",
      "50\n",
      "60\n",
      "70\n",
      "80\n",
      "90\n",
      "100\n"
     ]
    }
   ],
   "source": [
    "#Q1\n",
    "\n",
    "def mul(num):\n",
    "    for i in range(1,11):\n",
    "        print(i*num)\n",
    "\n",
    "mul(10)"
   ]
  },
  {
   "cell_type": "code",
   "execution_count": 2,
   "metadata": {},
   "outputs": [
    {
     "name": "stdout",
     "output_type": "stream",
     "text": [
      "3 5\n",
      "5 7\n",
      "11 13\n",
      "17 19\n",
      "29 31\n",
      "41 43\n",
      "59 61\n",
      "71 73\n"
     ]
    }
   ],
   "source": [
    "#Q2:\n",
    "\n",
    "def prime(num):\n",
    "    for val in range(2,num//2+1):\n",
    "        if num%val == 0:\n",
    "            return False\n",
    "    return True\n",
    "\n",
    "ls1 = []\n",
    "def find_primes(num_range):\n",
    "    for value in range(2,num_range+1):\n",
    "        if prime(value):\n",
    "            ls1.append(value)\n",
    "            \n",
    "    for i in range(len(ls1)-1):\n",
    "        if ls1[i]%2 !=0 and ls1[i+1]%2 != 0:\n",
    "            if ls1[i+1] - ls1[i] == 2:\n",
    "                print(ls1[i],ls1[i+1])\n",
    "\n",
    "            \n",
    "find_primes(100)"
   ]
  },
  {
   "cell_type": "code",
   "execution_count": 3,
   "metadata": {},
   "outputs": [
    {
     "name": "stdout",
     "output_type": "stream",
     "text": [
      "[2, 2, 3, 5]\n"
     ]
    }
   ],
   "source": [
    "#Q3: prime factors of a number\n",
    "\n",
    "\n",
    "def prime_factors(num):\n",
    "    list1 = []\n",
    "    \n",
    "    def is_divisible(num,i):\n",
    "        if num%i == 0:\n",
    "            return True\n",
    "        return False\n",
    "\n",
    "    def prime(num):\n",
    "        for val in range(2,num//2+1):\n",
    "            if num%val == 0:\n",
    "                return False\n",
    "        return True\n",
    "\n",
    "    for i in range(2,num):\n",
    "        val = True\n",
    "        while val:\n",
    "            if is_divisible(num,i):\n",
    "                if prime(i):\n",
    "                    list1.append(i)\n",
    "                    num = num // i\n",
    "                    val = True\n",
    "            else:\n",
    "                val = False\n",
    "    \n",
    "    print(list1)\n",
    "    \n",
    "prime_factors(60)"
   ]
  },
  {
   "cell_type": "code",
   "execution_count": 4,
   "metadata": {},
   "outputs": [
    {
     "name": "stdout",
     "output_type": "stream",
     "text": [
      "60 10\n"
     ]
    }
   ],
   "source": [
    "#Q4:\n",
    "\n",
    "def per_and_combinations(num,r):\n",
    "    \n",
    "    def fact(num):\n",
    "        fact = 1\n",
    "        if num < 1:\n",
    "            fact = 1\n",
    "        for i in range(1,num+1):\n",
    "            fact = fact*i\n",
    "        return fact\n",
    "\n",
    "    no_of_permtations = fact(num)//fact(num-r)\n",
    "\n",
    "    no_of_comb = fact(num)//(fact(num-r)*fact(r)) \n",
    "    \n",
    "    print(no_of_permtations,no_of_comb)\n",
    "\n",
    "per_and_combinations(5,3)\n",
    "    "
   ]
  },
  {
   "cell_type": "code",
   "execution_count": 5,
   "metadata": {},
   "outputs": [
    {
     "name": "stdout",
     "output_type": "stream",
     "text": [
      "[1, 1, 0]\n"
     ]
    }
   ],
   "source": [
    "#Q5 dec to binary\n",
    "\n",
    "def dec_to_bin(num):\n",
    "    val = True\n",
    "    lst = []\n",
    "    while val:\n",
    "        rem = num%2\n",
    "        lst.append(rem)\n",
    "        num = num//2\n",
    "        val = True\n",
    "        if num == 0:\n",
    "            val = False\n",
    "    return lst[::-1]\n",
    "\n",
    "print(dec_to_bin(6))"
   ]
  },
  {
   "cell_type": "code",
   "execution_count": 6,
   "metadata": {},
   "outputs": [
    {
     "name": "stdout",
     "output_type": "stream",
     "text": [
      "number 153 is armstring number\n"
     ]
    }
   ],
   "source": [
    "#Q6:\n",
    "def cubesum(num):\n",
    "    s= str(num)\n",
    "    sum1 = 0\n",
    "    for i in s:\n",
    "        sum1 += int(i)**3\n",
    "    return sum1\n",
    "    \n",
    "def PrintArmstrong(num_range):\n",
    "    for i in range(100,num_range):\n",
    "        if i==cubesum(i):\n",
    "            print(f'Armstrong number is {i}')\n",
    "\n",
    "\n",
    "#PrintArmstrong(1000)\n",
    "\n",
    "def is_Armstrong(num):\n",
    "    if num == cubesum(num):\n",
    "        print(f'number {num} is armstring number')\n",
    "    else:\n",
    "        print('number {} is not armstrong number'.format(num))\n",
    "is_Armstrong(153)"
   ]
  },
  {
   "cell_type": "code",
   "execution_count": 7,
   "metadata": {},
   "outputs": [
    {
     "name": "stdout",
     "output_type": "stream",
     "text": [
      "10\n"
     ]
    }
   ],
   "source": [
    "#Q7:\n",
    "def prodDigits(num):\n",
    "    lst = []\n",
    "    value = True\n",
    "    while num != 0:\n",
    "        digit = num % 10\n",
    "        num = num // 10\n",
    "        lst.append(digit)\n",
    "    \n",
    "    prod = 1\n",
    "    lst = lst[::-1]\n",
    "    for i in lst:\n",
    "        prod = i* prod\n",
    "    return prod\n",
    "print(prodDigits(25))"
   ]
  },
  {
   "cell_type": "code",
   "execution_count": 8,
   "metadata": {},
   "outputs": [
    {
     "name": "stdout",
     "output_type": "stream",
     "text": [
      "36\n",
      "Multiplicative digital root:  8\n",
      "Multiplicative persitence:  2\n"
     ]
    }
   ],
   "source": [
    "#Q8\n",
    "def MDR(num):\n",
    "    temp = num\n",
    "    val = True\n",
    "    while temp >10:\n",
    "        result= prodDigits(temp)\n",
    "        temp = result\n",
    "    return result\n",
    "    \n",
    "def MPersistence(num):\n",
    "    temp = num\n",
    "    val = True\n",
    "    count = 0\n",
    "    while temp >10:\n",
    "        result= prodDigits(temp)\n",
    "        temp = result\n",
    "        count += 1\n",
    "    return count\n",
    "\n",
    "in_val = int(input())\n",
    "print(\"Multiplicative digital root: \",MDR(in_val))\n",
    "print(\"Multiplicative persitence: \",MPersistence(in_val))"
   ]
  },
  {
   "cell_type": "code",
   "execution_count": 9,
   "metadata": {},
   "outputs": [
    {
     "data": {
      "text/plain": [
       "28"
      ]
     },
     "execution_count": 9,
     "metadata": {},
     "output_type": "execute_result"
    }
   ],
   "source": [
    "#Q9\n",
    "def sumPdivisor(num):\n",
    "    divisor_list= [i for i in range(1,num//2+1) if num%i ==0]\n",
    "    #getting the sum of proper divisors\n",
    "    result = sum(divisor_list)\n",
    "    return (result)\n",
    "sumPdivisor(28)"
   ]
  },
  {
   "cell_type": "code",
   "execution_count": 10,
   "metadata": {},
   "outputs": [
    {
     "name": "stdout",
     "output_type": "stream",
     "text": [
      "Enter the range: 50\n",
      "[6, 28]\n"
     ]
    }
   ],
   "source": [
    "#Q 10\n",
    "def perfect():\n",
    "    input_range = int(input(\"Enter the range: \"))\n",
    "    l = []\n",
    "    \n",
    "    for item in range(1,input_range):\n",
    "        sum_result = sumPdivisor(item)\n",
    "        #print(sum_result)\n",
    "        if sum_result == item:\n",
    "            l.append(item)\n",
    "    print(l)\n",
    "        \n",
    "\n",
    "perfect()"
   ]
  },
  {
   "cell_type": "code",
   "execution_count": 11,
   "metadata": {},
   "outputs": [
    {
     "name": "stdout",
     "output_type": "stream",
     "text": [
      "Enter range: 300\n",
      "[(220, 284)]\n"
     ]
    }
   ],
   "source": [
    "def amicable_numbers():\n",
    "    input_range = int(input(\"Enter range: \"))\n",
    "    \n",
    "    final_lst = []\n",
    "    for i in range(1,input_range+1):\n",
    "        pd_i = sumPdivisor(i)\n",
    "        \n",
    "        for j in range(i,input_range+1):\n",
    "            pd_j = sumPdivisor(j)\n",
    "            \n",
    "            if pd_i ==j and pd_j ==i and i!=j:\n",
    "                final_lst.append((i,j))\n",
    "    print(final_lst)\n",
    "\n",
    "amicable_numbers()\n",
    "#example (220 and 284)       "
   ]
  },
  {
   "cell_type": "code",
   "execution_count": 12,
   "metadata": {},
   "outputs": [
    {
     "name": "stdout",
     "output_type": "stream",
     "text": [
      "10 20 34 13 11\n",
      "[13, 11]\n"
     ]
    }
   ],
   "source": [
    "#Q 12\n",
    "\n",
    "num_list = [int(i) for i in input().split()]\n",
    "\n",
    "odd= list(filter(lambda x:x%2!=0,num_list))\n",
    "print(odd)"
   ]
  },
  {
   "cell_type": "code",
   "execution_count": 13,
   "metadata": {},
   "outputs": [
    {
     "name": "stdout",
     "output_type": "stream",
     "text": [
      "1 2 3 4\n",
      "[1, 8, 27, 64]\n"
     ]
    }
   ],
   "source": [
    "#Q 13\n",
    "\n",
    "num_list = [int(i) for i in input().split()]\n",
    "cube = list(map(lambda x : x**3,num_list))\n",
    "print(cube)"
   ]
  },
  {
   "cell_type": "code",
   "execution_count": 14,
   "metadata": {},
   "outputs": [
    {
     "name": "stdout",
     "output_type": "stream",
     "text": [
      "1 2 3 4 5 6\n",
      "[8, 64, 216]\n"
     ]
    }
   ],
   "source": [
    "#Q 14\n",
    "num_list = [int(i) for i in input().split()]\n",
    "result = list(map(lambda x : x**3,list(filter(lambda x: (x%2==0),num_list))))\n",
    "print(result)"
   ]
  },
  {
   "cell_type": "code",
   "execution_count": null,
   "metadata": {},
   "outputs": [],
   "source": []
  }
 ],
 "metadata": {
  "kernelspec": {
   "display_name": "Python 3",
   "language": "python",
   "name": "python3"
  },
  "language_info": {
   "codemirror_mode": {
    "name": "ipython",
    "version": 3
   },
   "file_extension": ".py",
   "mimetype": "text/x-python",
   "name": "python",
   "nbconvert_exporter": "python",
   "pygments_lexer": "ipython3",
   "version": "3.8.5"
  }
 },
 "nbformat": 4,
 "nbformat_minor": 4
}
